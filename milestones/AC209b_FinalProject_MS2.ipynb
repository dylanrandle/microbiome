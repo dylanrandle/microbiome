{
 "cells": [
  {
   "cell_type": "markdown",
   "metadata": {
    "colab_type": "text",
    "id": "dkPYe-U6UN3X"
   },
   "source": [
    "# AC209b - Final Project - Milestone 2"
   ]
  },
  {
   "cell_type": "markdown",
   "metadata": {
    "colab_type": "text",
    "id": "5mpDaW-SUctl"
   },
   "source": [
    "### Project: Microbiome\n",
    "\n",
    "Group Members: Dylan Randle, Joe Davison, Robbert Struyven, Simon Sebbagh\n",
    "\n",
    "Everyone in our group has been in contact with one another and we have sent an initial introductory email to our TF."
   ]
  },
  {
   "cell_type": "markdown",
   "metadata": {
    "colab_type": "text",
    "id": "tXFzoi-AZipO"
   },
   "source": [
    "### Preliminary EDA"
   ]
  },
  {
   "cell_type": "code",
   "execution_count": 0,
   "metadata": {
    "colab": {},
    "colab_type": "code",
    "id": "mwS_KR_GUi2d"
   },
   "outputs": [],
   "source": [
    "import pickle"
   ]
  },
  {
   "cell_type": "code",
   "execution_count": 0,
   "metadata": {
    "colab": {},
    "colab_type": "code",
    "id": "Z68NyEPFVwN2"
   },
   "outputs": [],
   "source": [
    "with open('mouse_set_1_data.pkl', 'rb') as f:\n",
    "    mouse_1 = pickle.load(f)\n",
    "\n",
    "with open('mouse_set_2_data.pkl', 'rb') as f:\n",
    "    mouse_2 = pickle.load(f)"
   ]
  },
  {
   "cell_type": "code",
   "execution_count": 0,
   "metadata": {
    "colab": {
     "base_uri": "https://localhost:8080/",
     "height": 51
    },
    "colab_type": "code",
    "id": "9lYXz2oxXMR5",
    "outputId": "72d60def-e1b5-43f0-ceca-f9e5b5259085"
   },
   "outputs": [
    {
     "data": {
      "text/plain": [
       "(dict_keys(['reads', 'qpcr', 'times', 'otu_taxonomy']),\n",
       " dict_keys(['reads', 'qpcr', 'times', 'otu_taxonomy']))"
      ]
     },
     "execution_count": 23,
     "metadata": {
      "tags": []
     },
     "output_type": "execute_result"
    }
   ],
   "source": [
    "mouse_1.keys(), mouse_2.keys()"
   ]
  },
  {
   "cell_type": "markdown",
   "metadata": {
    "colab_type": "text",
    "id": "V-00FsDoXkSU"
   },
   "source": [
    "We have \"reads\", \"qpcr\", \"times\" and \"otu_taxonomy\"."
   ]
  },
  {
   "cell_type": "code",
   "execution_count": 0,
   "metadata": {
    "colab": {
     "base_uri": "https://localhost:8080/",
     "height": 34
    },
    "colab_type": "code",
    "id": "bi9wTRaCXOsW",
    "outputId": "caaae111-e73e-4659-c5a7-1048f884aef7"
   },
   "outputs": [
    {
     "data": {
      "text/plain": [
       "(dict_keys(['2', '3', '4', '5']), dict_keys(['10', '6', '7', '8', '9']))"
      ]
     },
     "execution_count": 24,
     "metadata": {
      "tags": []
     },
     "output_type": "execute_result"
    }
   ],
   "source": [
    "mouse_1['reads'].keys(), mouse_2['reads'].keys()"
   ]
  },
  {
   "cell_type": "markdown",
   "metadata": {
    "colab_type": "text",
    "id": "gEzdQKQeXoLy"
   },
   "source": [
    "Mice 2-5 are in `mouse_1` whereas Mice 6-10 are in `mouse_2`"
   ]
  },
  {
   "cell_type": "code",
   "execution_count": 0,
   "metadata": {
    "colab": {},
    "colab_type": "code",
    "id": "yxHaDwyvV0tT"
   },
   "outputs": [],
   "source": [
    "import pandas as pd"
   ]
  },
  {
   "cell_type": "code",
   "execution_count": 0,
   "metadata": {
    "colab": {
     "base_uri": "https://localhost:8080/",
     "height": 289
    },
    "colab_type": "code",
    "id": "LaJwk3CSWdAM",
    "outputId": "75af57e7-bfdd-4dc1-db8b-ca59645612ed"
   },
   "outputs": [
    {
     "name": "stdout",
     "output_type": "stream",
     "text": [
      "reads shape: (202, 75)\n",
      "        0AM   0PM   1AM   1PM   2AM   2PM   3AM   3PM    4AM    4PM  ...  \\\n",
      "OTU_1  1094  3292  1744   193   468   974  1323  2854   7106   3949  ...   \n",
      "OTU_2   180   825  1340  4501  9959  5564  2738  3069   2318   1229  ...   \n",
      "OTU_3    10     8    10    27   117    28    44    50     77     49  ...   \n",
      "OTU_4     3     0     9    32   205   254   196   361   1073    871  ...   \n",
      "OTU_5     6    13   195   517   744  4703  5620  8592  11602  11978  ...   \n",
      "\n",
      "       58PM  59AM  59PM  60AM  60PM     61     62    63  64AM  64PM  \n",
      "OTU_1  3297  1415  1539  1641  6409   1477   1108   573   841   762  \n",
      "OTU_2   100    25     0    80  5359     86    398   447  1265  1326  \n",
      "OTU_3    10     6     3    20    15     26     11     4     7    24  \n",
      "OTU_4  7318  6252  8405  9322  9061  12263  10940  6070  9832  8101  \n",
      "OTU_5     1     0     0     0     4      1      1     8     1     0  \n",
      "\n",
      "[5 rows x 75 columns]\n"
     ]
    }
   ],
   "source": [
    "print('reads shape: {}'.format(mouse_1['reads']['2'].shape))\n",
    "print(mouse_1['reads']['2'].head(5))"
   ]
  },
  {
   "cell_type": "code",
   "execution_count": 0,
   "metadata": {
    "colab": {},
    "colab_type": "code",
    "id": "mgYjaL4ZWZi2"
   },
   "outputs": [],
   "source": [
    "def get_mouse_data(mouse_num, column):\n",
    "    \"\"\" helper function to get mouse data \"\"\"\n",
    "    if mouse_num <= 5:\n",
    "        # dict 1\n",
    "        if column in['reads','qpcr']:\n",
    "            return mouse_1[column][str(mouse_num)]\n",
    "        else:\n",
    "            return mouse_1[column]\n",
    "    else:\n",
    "        # dict 2\n",
    "        if column in['reads','qpcr']:\n",
    "            return mouse_2[column][str(mouse_num)]\n",
    "        else:\n",
    "            return mouse_2[column]"
   ]
  },
  {
   "cell_type": "code",
   "execution_count": 0,
   "metadata": {
    "colab": {
     "base_uri": "https://localhost:8080/",
     "height": 233
    },
    "colab_type": "code",
    "id": "Hw_GMd_0XdkV",
    "outputId": "9a7ec42b-a167-48e7-ef49-bf793007a2e1"
   },
   "outputs": [
    {
     "data": {
      "text/html": [
       "<div>\n",
       "<style scoped>\n",
       "    .dataframe tbody tr th:only-of-type {\n",
       "        vertical-align: middle;\n",
       "    }\n",
       "\n",
       "    .dataframe tbody tr th {\n",
       "        vertical-align: top;\n",
       "    }\n",
       "\n",
       "    .dataframe thead th {\n",
       "        text-align: right;\n",
       "    }\n",
       "</style>\n",
       "<table border=\"1\" class=\"dataframe\">\n",
       "  <thead>\n",
       "    <tr style=\"text-align: right;\">\n",
       "      <th></th>\n",
       "      <th>0AM</th>\n",
       "      <th>0PM</th>\n",
       "      <th>1AM</th>\n",
       "      <th>1PM</th>\n",
       "      <th>2AM</th>\n",
       "      <th>2PM</th>\n",
       "      <th>3AM</th>\n",
       "      <th>3PM</th>\n",
       "      <th>4AM</th>\n",
       "      <th>4PM</th>\n",
       "      <th>...</th>\n",
       "      <th>58PM</th>\n",
       "      <th>59AM</th>\n",
       "      <th>59PM</th>\n",
       "      <th>60AM</th>\n",
       "      <th>60PM</th>\n",
       "      <th>61</th>\n",
       "      <th>62</th>\n",
       "      <th>63</th>\n",
       "      <th>64AM</th>\n",
       "      <th>64PM</th>\n",
       "    </tr>\n",
       "  </thead>\n",
       "  <tbody>\n",
       "    <tr>\n",
       "      <th>OTU_1</th>\n",
       "      <td>1094</td>\n",
       "      <td>3292</td>\n",
       "      <td>1744</td>\n",
       "      <td>193</td>\n",
       "      <td>468</td>\n",
       "      <td>974</td>\n",
       "      <td>1323</td>\n",
       "      <td>2854</td>\n",
       "      <td>7106</td>\n",
       "      <td>3949</td>\n",
       "      <td>...</td>\n",
       "      <td>3297</td>\n",
       "      <td>1415</td>\n",
       "      <td>1539</td>\n",
       "      <td>1641</td>\n",
       "      <td>6409</td>\n",
       "      <td>1477</td>\n",
       "      <td>1108</td>\n",
       "      <td>573</td>\n",
       "      <td>841</td>\n",
       "      <td>762</td>\n",
       "    </tr>\n",
       "    <tr>\n",
       "      <th>OTU_2</th>\n",
       "      <td>180</td>\n",
       "      <td>825</td>\n",
       "      <td>1340</td>\n",
       "      <td>4501</td>\n",
       "      <td>9959</td>\n",
       "      <td>5564</td>\n",
       "      <td>2738</td>\n",
       "      <td>3069</td>\n",
       "      <td>2318</td>\n",
       "      <td>1229</td>\n",
       "      <td>...</td>\n",
       "      <td>100</td>\n",
       "      <td>25</td>\n",
       "      <td>0</td>\n",
       "      <td>80</td>\n",
       "      <td>5359</td>\n",
       "      <td>86</td>\n",
       "      <td>398</td>\n",
       "      <td>447</td>\n",
       "      <td>1265</td>\n",
       "      <td>1326</td>\n",
       "    </tr>\n",
       "    <tr>\n",
       "      <th>OTU_3</th>\n",
       "      <td>10</td>\n",
       "      <td>8</td>\n",
       "      <td>10</td>\n",
       "      <td>27</td>\n",
       "      <td>117</td>\n",
       "      <td>28</td>\n",
       "      <td>44</td>\n",
       "      <td>50</td>\n",
       "      <td>77</td>\n",
       "      <td>49</td>\n",
       "      <td>...</td>\n",
       "      <td>10</td>\n",
       "      <td>6</td>\n",
       "      <td>3</td>\n",
       "      <td>20</td>\n",
       "      <td>15</td>\n",
       "      <td>26</td>\n",
       "      <td>11</td>\n",
       "      <td>4</td>\n",
       "      <td>7</td>\n",
       "      <td>24</td>\n",
       "    </tr>\n",
       "    <tr>\n",
       "      <th>OTU_4</th>\n",
       "      <td>3</td>\n",
       "      <td>0</td>\n",
       "      <td>9</td>\n",
       "      <td>32</td>\n",
       "      <td>205</td>\n",
       "      <td>254</td>\n",
       "      <td>196</td>\n",
       "      <td>361</td>\n",
       "      <td>1073</td>\n",
       "      <td>871</td>\n",
       "      <td>...</td>\n",
       "      <td>7318</td>\n",
       "      <td>6252</td>\n",
       "      <td>8405</td>\n",
       "      <td>9322</td>\n",
       "      <td>9061</td>\n",
       "      <td>12263</td>\n",
       "      <td>10940</td>\n",
       "      <td>6070</td>\n",
       "      <td>9832</td>\n",
       "      <td>8101</td>\n",
       "    </tr>\n",
       "    <tr>\n",
       "      <th>OTU_5</th>\n",
       "      <td>6</td>\n",
       "      <td>13</td>\n",
       "      <td>195</td>\n",
       "      <td>517</td>\n",
       "      <td>744</td>\n",
       "      <td>4703</td>\n",
       "      <td>5620</td>\n",
       "      <td>8592</td>\n",
       "      <td>11602</td>\n",
       "      <td>11978</td>\n",
       "      <td>...</td>\n",
       "      <td>1</td>\n",
       "      <td>0</td>\n",
       "      <td>0</td>\n",
       "      <td>0</td>\n",
       "      <td>4</td>\n",
       "      <td>1</td>\n",
       "      <td>1</td>\n",
       "      <td>8</td>\n",
       "      <td>1</td>\n",
       "      <td>0</td>\n",
       "    </tr>\n",
       "  </tbody>\n",
       "</table>\n",
       "<p>5 rows × 75 columns</p>\n",
       "</div>"
      ],
      "text/plain": [
       "        0AM   0PM   1AM   1PM   2AM   2PM   3AM   3PM    4AM    4PM  ...  \\\n",
       "OTU_1  1094  3292  1744   193   468   974  1323  2854   7106   3949  ...   \n",
       "OTU_2   180   825  1340  4501  9959  5564  2738  3069   2318   1229  ...   \n",
       "OTU_3    10     8    10    27   117    28    44    50     77     49  ...   \n",
       "OTU_4     3     0     9    32   205   254   196   361   1073    871  ...   \n",
       "OTU_5     6    13   195   517   744  4703  5620  8592  11602  11978  ...   \n",
       "\n",
       "       58PM  59AM  59PM  60AM  60PM     61     62    63  64AM  64PM  \n",
       "OTU_1  3297  1415  1539  1641  6409   1477   1108   573   841   762  \n",
       "OTU_2   100    25     0    80  5359     86    398   447  1265  1326  \n",
       "OTU_3    10     6     3    20    15     26     11     4     7    24  \n",
       "OTU_4  7318  6252  8405  9322  9061  12263  10940  6070  9832  8101  \n",
       "OTU_5     1     0     0     0     4      1      1     8     1     0  \n",
       "\n",
       "[5 rows x 75 columns]"
      ]
     },
     "execution_count": 32,
     "metadata": {
      "tags": []
     },
     "output_type": "execute_result"
    }
   ],
   "source": [
    "get_mouse_data(2, 'reads').head()"
   ]
  },
  {
   "cell_type": "code",
   "execution_count": 0,
   "metadata": {
    "colab": {
     "base_uri": "https://localhost:8080/",
     "height": 233
    },
    "colab_type": "code",
    "id": "t05373olX6FJ",
    "outputId": "a7dadaa9-0555-4c9f-8c54-6d2e4d903f23"
   },
   "outputs": [
    {
     "data": {
      "text/html": [
       "<div>\n",
       "<style scoped>\n",
       "    .dataframe tbody tr th:only-of-type {\n",
       "        vertical-align: middle;\n",
       "    }\n",
       "\n",
       "    .dataframe tbody tr th {\n",
       "        vertical-align: top;\n",
       "    }\n",
       "\n",
       "    .dataframe thead th {\n",
       "        text-align: right;\n",
       "    }\n",
       "</style>\n",
       "<table border=\"1\" class=\"dataframe\">\n",
       "  <thead>\n",
       "    <tr style=\"text-align: right;\">\n",
       "      <th></th>\n",
       "      <th>0AM</th>\n",
       "      <th>1AM</th>\n",
       "      <th>1PM</th>\n",
       "      <th>2AM</th>\n",
       "      <th>2PM</th>\n",
       "      <th>3AM</th>\n",
       "      <th>3PM</th>\n",
       "      <th>4AM</th>\n",
       "      <th>4PM</th>\n",
       "      <th>5</th>\n",
       "      <th>...</th>\n",
       "      <th>58PM</th>\n",
       "      <th>59AM</th>\n",
       "      <th>59PM</th>\n",
       "      <th>60AM</th>\n",
       "      <th>60PM</th>\n",
       "      <th>61</th>\n",
       "      <th>62</th>\n",
       "      <th>63</th>\n",
       "      <th>64AM</th>\n",
       "      <th>64PM</th>\n",
       "    </tr>\n",
       "  </thead>\n",
       "  <tbody>\n",
       "    <tr>\n",
       "      <th>OTU_1</th>\n",
       "      <td>1048</td>\n",
       "      <td>33476</td>\n",
       "      <td>26834</td>\n",
       "      <td>22014</td>\n",
       "      <td>16204</td>\n",
       "      <td>16028</td>\n",
       "      <td>31380</td>\n",
       "      <td>11226</td>\n",
       "      <td>14789</td>\n",
       "      <td>16566</td>\n",
       "      <td>...</td>\n",
       "      <td>19978</td>\n",
       "      <td>25303</td>\n",
       "      <td>13110</td>\n",
       "      <td>34878</td>\n",
       "      <td>30946</td>\n",
       "      <td>21687</td>\n",
       "      <td>25350</td>\n",
       "      <td>16198</td>\n",
       "      <td>8813</td>\n",
       "      <td>5041</td>\n",
       "    </tr>\n",
       "    <tr>\n",
       "      <th>OTU_2</th>\n",
       "      <td>1140</td>\n",
       "      <td>4714</td>\n",
       "      <td>7081</td>\n",
       "      <td>9512</td>\n",
       "      <td>8408</td>\n",
       "      <td>9939</td>\n",
       "      <td>20607</td>\n",
       "      <td>9503</td>\n",
       "      <td>11822</td>\n",
       "      <td>13296</td>\n",
       "      <td>...</td>\n",
       "      <td>12025</td>\n",
       "      <td>6099</td>\n",
       "      <td>9515</td>\n",
       "      <td>1303</td>\n",
       "      <td>9133</td>\n",
       "      <td>13875</td>\n",
       "      <td>1624</td>\n",
       "      <td>8087</td>\n",
       "      <td>8362</td>\n",
       "      <td>10075</td>\n",
       "    </tr>\n",
       "    <tr>\n",
       "      <th>OTU_3</th>\n",
       "      <td>37</td>\n",
       "      <td>18</td>\n",
       "      <td>52</td>\n",
       "      <td>5232</td>\n",
       "      <td>11070</td>\n",
       "      <td>15833</td>\n",
       "      <td>21400</td>\n",
       "      <td>16949</td>\n",
       "      <td>16776</td>\n",
       "      <td>12645</td>\n",
       "      <td>...</td>\n",
       "      <td>13</td>\n",
       "      <td>14</td>\n",
       "      <td>11</td>\n",
       "      <td>2</td>\n",
       "      <td>19</td>\n",
       "      <td>43</td>\n",
       "      <td>13</td>\n",
       "      <td>20</td>\n",
       "      <td>12</td>\n",
       "      <td>2</td>\n",
       "    </tr>\n",
       "    <tr>\n",
       "      <th>OTU_4</th>\n",
       "      <td>77</td>\n",
       "      <td>0</td>\n",
       "      <td>8</td>\n",
       "      <td>4</td>\n",
       "      <td>0</td>\n",
       "      <td>0</td>\n",
       "      <td>8</td>\n",
       "      <td>3</td>\n",
       "      <td>0</td>\n",
       "      <td>12</td>\n",
       "      <td>...</td>\n",
       "      <td>339</td>\n",
       "      <td>26</td>\n",
       "      <td>63</td>\n",
       "      <td>59</td>\n",
       "      <td>15</td>\n",
       "      <td>68</td>\n",
       "      <td>31</td>\n",
       "      <td>16</td>\n",
       "      <td>29</td>\n",
       "      <td>37</td>\n",
       "    </tr>\n",
       "    <tr>\n",
       "      <th>OTU_5</th>\n",
       "      <td>93</td>\n",
       "      <td>10</td>\n",
       "      <td>4</td>\n",
       "      <td>35</td>\n",
       "      <td>8</td>\n",
       "      <td>20</td>\n",
       "      <td>15</td>\n",
       "      <td>11</td>\n",
       "      <td>7</td>\n",
       "      <td>15</td>\n",
       "      <td>...</td>\n",
       "      <td>0</td>\n",
       "      <td>0</td>\n",
       "      <td>0</td>\n",
       "      <td>2</td>\n",
       "      <td>0</td>\n",
       "      <td>2</td>\n",
       "      <td>5</td>\n",
       "      <td>3</td>\n",
       "      <td>9</td>\n",
       "      <td>6</td>\n",
       "    </tr>\n",
       "  </tbody>\n",
       "</table>\n",
       "<p>5 rows × 73 columns</p>\n",
       "</div>"
      ],
      "text/plain": [
       "        0AM    1AM    1PM    2AM    2PM    3AM    3PM    4AM    4PM      5  \\\n",
       "OTU_1  1048  33476  26834  22014  16204  16028  31380  11226  14789  16566   \n",
       "OTU_2  1140   4714   7081   9512   8408   9939  20607   9503  11822  13296   \n",
       "OTU_3    37     18     52   5232  11070  15833  21400  16949  16776  12645   \n",
       "OTU_4    77      0      8      4      0      0      8      3      0     12   \n",
       "OTU_5    93     10      4     35      8     20     15     11      7     15   \n",
       "\n",
       "       ...   58PM   59AM   59PM   60AM   60PM     61     62     63  64AM  \\\n",
       "OTU_1  ...  19978  25303  13110  34878  30946  21687  25350  16198  8813   \n",
       "OTU_2  ...  12025   6099   9515   1303   9133  13875   1624   8087  8362   \n",
       "OTU_3  ...     13     14     11      2     19     43     13     20    12   \n",
       "OTU_4  ...    339     26     63     59     15     68     31     16    29   \n",
       "OTU_5  ...      0      0      0      2      0      2      5      3     9   \n",
       "\n",
       "        64PM  \n",
       "OTU_1   5041  \n",
       "OTU_2  10075  \n",
       "OTU_3      2  \n",
       "OTU_4     37  \n",
       "OTU_5      6  \n",
       "\n",
       "[5 rows x 73 columns]"
      ]
     },
     "execution_count": 33,
     "metadata": {
      "tags": []
     },
     "output_type": "execute_result"
    }
   ],
   "source": [
    "get_mouse_data(6, 'reads').head()"
   ]
  },
  {
   "cell_type": "code",
   "execution_count": 0,
   "metadata": {
    "colab": {
     "base_uri": "https://localhost:8080/",
     "height": 204
    },
    "colab_type": "code",
    "id": "Cf8F480NZ239",
    "outputId": "26f1b7e2-c6ee-4d3e-e041-670650f9ba68"
   },
   "outputs": [
    {
     "data": {
      "text/html": [
       "<div>\n",
       "<style scoped>\n",
       "    .dataframe tbody tr th:only-of-type {\n",
       "        vertical-align: middle;\n",
       "    }\n",
       "\n",
       "    .dataframe tbody tr th {\n",
       "        vertical-align: top;\n",
       "    }\n",
       "\n",
       "    .dataframe thead th {\n",
       "        text-align: right;\n",
       "    }\n",
       "</style>\n",
       "<table border=\"1\" class=\"dataframe\">\n",
       "  <thead>\n",
       "    <tr style=\"text-align: right;\">\n",
       "      <th></th>\n",
       "      <th>mean</th>\n",
       "      <th>std</th>\n",
       "    </tr>\n",
       "  </thead>\n",
       "  <tbody>\n",
       "    <tr>\n",
       "      <th>0AM</th>\n",
       "      <td>8.724134e+06</td>\n",
       "      <td>6.029776e+05</td>\n",
       "    </tr>\n",
       "    <tr>\n",
       "      <th>0PM</th>\n",
       "      <td>3.674454e+07</td>\n",
       "      <td>1.388925e+07</td>\n",
       "    </tr>\n",
       "    <tr>\n",
       "      <th>1AM</th>\n",
       "      <td>2.554379e+11</td>\n",
       "      <td>9.572197e+10</td>\n",
       "    </tr>\n",
       "    <tr>\n",
       "      <th>1PM</th>\n",
       "      <td>8.266330e+09</td>\n",
       "      <td>2.948702e+09</td>\n",
       "    </tr>\n",
       "    <tr>\n",
       "      <th>2AM</th>\n",
       "      <td>8.107457e+09</td>\n",
       "      <td>4.296630e+09</td>\n",
       "    </tr>\n",
       "  </tbody>\n",
       "</table>\n",
       "</div>"
      ],
      "text/plain": [
       "             mean           std\n",
       "0AM  8.724134e+06  6.029776e+05\n",
       "0PM  3.674454e+07  1.388925e+07\n",
       "1AM  2.554379e+11  9.572197e+10\n",
       "1PM  8.266330e+09  2.948702e+09\n",
       "2AM  8.107457e+09  4.296630e+09"
      ]
     },
     "execution_count": 49,
     "metadata": {
      "tags": []
     },
     "output_type": "execute_result"
    }
   ],
   "source": [
    "get_mouse_data(2, 'qpcr').head()"
   ]
  },
  {
   "cell_type": "code",
   "execution_count": 0,
   "metadata": {
    "colab": {
     "base_uri": "https://localhost:8080/",
     "height": 204
    },
    "colab_type": "code",
    "id": "_Ctq3evHaFCA",
    "outputId": "2943b3e3-ce07-4030-ea63-4f91dc7100b2"
   },
   "outputs": [
    {
     "data": {
      "text/html": [
       "<div>\n",
       "<style scoped>\n",
       "    .dataframe tbody tr th:only-of-type {\n",
       "        vertical-align: middle;\n",
       "    }\n",
       "\n",
       "    .dataframe tbody tr th {\n",
       "        vertical-align: top;\n",
       "    }\n",
       "\n",
       "    .dataframe thead th {\n",
       "        text-align: right;\n",
       "    }\n",
       "</style>\n",
       "<table border=\"1\" class=\"dataframe\">\n",
       "  <thead>\n",
       "    <tr style=\"text-align: right;\">\n",
       "      <th></th>\n",
       "      <th>mean</th>\n",
       "      <th>std</th>\n",
       "    </tr>\n",
       "  </thead>\n",
       "  <tbody>\n",
       "    <tr>\n",
       "      <th>0AM</th>\n",
       "      <td>1.176631e+07</td>\n",
       "      <td>5.227645e+06</td>\n",
       "    </tr>\n",
       "    <tr>\n",
       "      <th>1AM</th>\n",
       "      <td>6.516426e+09</td>\n",
       "      <td>1.732993e+09</td>\n",
       "    </tr>\n",
       "    <tr>\n",
       "      <th>1PM</th>\n",
       "      <td>1.648246e+09</td>\n",
       "      <td>4.931391e+08</td>\n",
       "    </tr>\n",
       "    <tr>\n",
       "      <th>2AM</th>\n",
       "      <td>3.589292e+10</td>\n",
       "      <td>1.755669e+09</td>\n",
       "    </tr>\n",
       "    <tr>\n",
       "      <th>2PM</th>\n",
       "      <td>2.208925e+10</td>\n",
       "      <td>5.643835e+09</td>\n",
       "    </tr>\n",
       "  </tbody>\n",
       "</table>\n",
       "</div>"
      ],
      "text/plain": [
       "             mean           std\n",
       "0AM  1.176631e+07  5.227645e+06\n",
       "1AM  6.516426e+09  1.732993e+09\n",
       "1PM  1.648246e+09  4.931391e+08\n",
       "2AM  3.589292e+10  1.755669e+09\n",
       "2PM  2.208925e+10  5.643835e+09"
      ]
     },
     "execution_count": 50,
     "metadata": {
      "tags": []
     },
     "output_type": "execute_result"
    }
   ],
   "source": [
    "get_mouse_data(6, 'qpcr').head()"
   ]
  },
  {
   "cell_type": "markdown",
   "metadata": {
    "colab_type": "text",
    "id": "Rm3w_kYlaIPI"
   },
   "source": [
    "QPCR holds mean and std info (assuming related to total reads)."
   ]
  },
  {
   "cell_type": "code",
   "execution_count": 0,
   "metadata": {
    "colab": {
     "base_uri": "https://localhost:8080/",
     "height": 782
    },
    "colab_type": "code",
    "id": "t4NVNv5HYBkD",
    "outputId": "dfff8c03-7736-4661-b41e-6319b5c6a10e"
   },
   "outputs": [
    {
     "name": "stdout",
     "output_type": "stream",
     "text": [
      "\n",
      "===========\n",
      "Mouse 2\n",
      "Shape of reads: (202, 75)\n",
      "Shape of qpcr: (75, 2)\n",
      "\n",
      "===========\n",
      "Mouse 3\n",
      "Shape of reads: (202, 75)\n",
      "Shape of qpcr: (75, 2)\n",
      "\n",
      "===========\n",
      "Mouse 4\n",
      "Shape of reads: (202, 75)\n",
      "Shape of qpcr: (75, 2)\n",
      "\n",
      "===========\n",
      "Mouse 5\n",
      "Shape of reads: (202, 75)\n",
      "Shape of qpcr: (75, 2)\n",
      "\n",
      "===========\n",
      "Mouse 6\n",
      "Shape of reads: (176, 73)\n",
      "Shape of qpcr: (73, 2)\n",
      "\n",
      "===========\n",
      "Mouse 7\n",
      "Shape of reads: (176, 73)\n",
      "Shape of qpcr: (73, 2)\n",
      "\n",
      "===========\n",
      "Mouse 8\n",
      "Shape of reads: (176, 73)\n",
      "Shape of qpcr: (73, 2)\n",
      "\n",
      "===========\n",
      "Mouse 9\n",
      "Shape of reads: (176, 73)\n",
      "Shape of qpcr: (73, 2)\n",
      "\n",
      "===========\n",
      "Mouse 10\n",
      "Shape of reads: (176, 73)\n",
      "Shape of qpcr: (73, 2)\n"
     ]
    }
   ],
   "source": [
    "for m in range(2,11):\n",
    "  print('\\n===========')\n",
    "  print('Mouse {}'.format(m))\n",
    "  for c in ['reads', 'qpcr']:\n",
    "      temp = get_mouse_data(m, c)\n",
    "      print('Shape of {}: {}'.format(c, temp.shape))"
   ]
  },
  {
   "cell_type": "code",
   "execution_count": 0,
   "metadata": {
    "colab": {
     "base_uri": "https://localhost:8080/",
     "height": 51
    },
    "colab_type": "code",
    "id": "hXZLvWXnYcY2",
    "outputId": "20439705-325f-480f-c001-4b7d4779ed48"
   },
   "outputs": [
    {
     "name": "stdout",
     "output_type": "stream",
     "text": [
      "Num times mouse 1: 75\n"
     ]
    },
    {
     "data": {
      "text/plain": [
       "[0.0, 0.5, 1.0, 1.5, 2.0, 2.5, 3.0, 3.5, 4.0, 4.5]"
      ]
     },
     "execution_count": 52,
     "metadata": {
      "tags": []
     },
     "output_type": "execute_result"
    }
   ],
   "source": [
    "print('Num times mouse 1: {}'.format(len(mouse_1['times'])))\n",
    "mouse_1['times'][0:10] # just a list"
   ]
  },
  {
   "cell_type": "code",
   "execution_count": 0,
   "metadata": {
    "colab": {
     "base_uri": "https://localhost:8080/",
     "height": 51
    },
    "colab_type": "code",
    "id": "jMVcny2NY46x",
    "outputId": "baccd1e5-c09d-48a8-f006-7d284ebb57f7"
   },
   "outputs": [
    {
     "name": "stdout",
     "output_type": "stream",
     "text": [
      "Num times mouse 2: 73\n"
     ]
    },
    {
     "data": {
      "text/plain": [
       "[0.0, 1.0, 1.5, 2.0, 2.5, 3.0, 3.5, 4.0, 4.5, 5.0]"
      ]
     },
     "execution_count": 53,
     "metadata": {
      "tags": []
     },
     "output_type": "execute_result"
    }
   ],
   "source": [
    "print('Num times mouse 2: {}'.format(len(mouse_2['times'])))\n",
    "mouse_2['times'][0:10]"
   ]
  },
  {
   "cell_type": "markdown",
   "metadata": {
    "colab_type": "text",
    "id": "0BZq82TLZI-6"
   },
   "source": [
    "Note: The `times` are slightly different."
   ]
  },
  {
   "cell_type": "code",
   "execution_count": 0,
   "metadata": {
    "colab": {
     "base_uri": "https://localhost:8080/",
     "height": 272
    },
    "colab_type": "code",
    "id": "iXnpdqRkZKeC",
    "outputId": "ad3a876f-a928-451d-e158-54a2d01a3ab0"
   },
   "outputs": [
    {
     "name": "stdout",
     "output_type": "stream",
     "text": [
      "Mouse 1 OTU Taxonomy shape: (202, 7)\n"
     ]
    },
    {
     "data": {
      "text/html": [
       "<div>\n",
       "<style scoped>\n",
       "    .dataframe tbody tr th:only-of-type {\n",
       "        vertical-align: middle;\n",
       "    }\n",
       "\n",
       "    .dataframe tbody tr th {\n",
       "        vertical-align: top;\n",
       "    }\n",
       "\n",
       "    .dataframe thead th {\n",
       "        text-align: right;\n",
       "    }\n",
       "</style>\n",
       "<table border=\"1\" class=\"dataframe\">\n",
       "  <thead>\n",
       "    <tr style=\"text-align: right;\">\n",
       "      <th></th>\n",
       "      <th>sequence</th>\n",
       "      <th>Kingdom</th>\n",
       "      <th>Phylum</th>\n",
       "      <th>Class</th>\n",
       "      <th>Order</th>\n",
       "      <th>Family</th>\n",
       "      <th>Genus</th>\n",
       "    </tr>\n",
       "    <tr>\n",
       "      <th>otuName</th>\n",
       "      <th></th>\n",
       "      <th></th>\n",
       "      <th></th>\n",
       "      <th></th>\n",
       "      <th></th>\n",
       "      <th></th>\n",
       "      <th></th>\n",
       "    </tr>\n",
       "  </thead>\n",
       "  <tbody>\n",
       "    <tr>\n",
       "      <th>OTU_1</th>\n",
       "      <td>TACGGAGGATCCGAGCGTTATCCGGATTTATTGGGTTTAAAGGGAG...</td>\n",
       "      <td>Bacteria</td>\n",
       "      <td>Bacteroidetes</td>\n",
       "      <td>Bacteroidia</td>\n",
       "      <td>Bacteroidales</td>\n",
       "      <td>Bacteroidaceae</td>\n",
       "      <td>Bacteroides</td>\n",
       "    </tr>\n",
       "    <tr>\n",
       "      <th>OTU_2</th>\n",
       "      <td>TACGGAGGATCCGAGCGTTATCCGGATTTATTGGGTTTAAAGGGAG...</td>\n",
       "      <td>Bacteria</td>\n",
       "      <td>Bacteroidetes</td>\n",
       "      <td>Bacteroidia</td>\n",
       "      <td>Bacteroidales</td>\n",
       "      <td>Bacteroidaceae</td>\n",
       "      <td>Bacteroides</td>\n",
       "    </tr>\n",
       "    <tr>\n",
       "      <th>OTU_3</th>\n",
       "      <td>TACAGAGGTCTCAAGCGTTGTTCGGAATCACTGGGCGTAAAGCGTG...</td>\n",
       "      <td>Bacteria</td>\n",
       "      <td>Verrucomicrobia</td>\n",
       "      <td>Verrucomicrobiae</td>\n",
       "      <td>Verrucomicrobiales</td>\n",
       "      <td>Verrucomicrobiaceae</td>\n",
       "      <td>Akkermansia</td>\n",
       "    </tr>\n",
       "    <tr>\n",
       "      <th>OTU_4</th>\n",
       "      <td>TACGGAGGATCCGAGCGTTATCCGGATTTATTGGGTTTAAAGGGAG...</td>\n",
       "      <td>Bacteria</td>\n",
       "      <td>Bacteroidetes</td>\n",
       "      <td>Bacteroidia</td>\n",
       "      <td>Bacteroidales</td>\n",
       "      <td>Bacteroidaceae</td>\n",
       "      <td>Bacteroides</td>\n",
       "    </tr>\n",
       "    <tr>\n",
       "      <th>OTU_5</th>\n",
       "      <td>TACAGAGGTCTCAAGCGTTGTTCGGAATCACTGGGCGTAAAGCGTG...</td>\n",
       "      <td>Bacteria</td>\n",
       "      <td>Verrucomicrobia</td>\n",
       "      <td>Verrucomicrobiae</td>\n",
       "      <td>Verrucomicrobiales</td>\n",
       "      <td>Verrucomicrobiaceae</td>\n",
       "      <td>Akkermansia</td>\n",
       "    </tr>\n",
       "  </tbody>\n",
       "</table>\n",
       "</div>"
      ],
      "text/plain": [
       "                                                  sequence   Kingdom  \\\n",
       "otuName                                                                \n",
       "OTU_1    TACGGAGGATCCGAGCGTTATCCGGATTTATTGGGTTTAAAGGGAG...  Bacteria   \n",
       "OTU_2    TACGGAGGATCCGAGCGTTATCCGGATTTATTGGGTTTAAAGGGAG...  Bacteria   \n",
       "OTU_3    TACAGAGGTCTCAAGCGTTGTTCGGAATCACTGGGCGTAAAGCGTG...  Bacteria   \n",
       "OTU_4    TACGGAGGATCCGAGCGTTATCCGGATTTATTGGGTTTAAAGGGAG...  Bacteria   \n",
       "OTU_5    TACAGAGGTCTCAAGCGTTGTTCGGAATCACTGGGCGTAAAGCGTG...  Bacteria   \n",
       "\n",
       "                  Phylum             Class               Order  \\\n",
       "otuName                                                          \n",
       "OTU_1      Bacteroidetes       Bacteroidia       Bacteroidales   \n",
       "OTU_2      Bacteroidetes       Bacteroidia       Bacteroidales   \n",
       "OTU_3    Verrucomicrobia  Verrucomicrobiae  Verrucomicrobiales   \n",
       "OTU_4      Bacteroidetes       Bacteroidia       Bacteroidales   \n",
       "OTU_5    Verrucomicrobia  Verrucomicrobiae  Verrucomicrobiales   \n",
       "\n",
       "                      Family        Genus  \n",
       "otuName                                    \n",
       "OTU_1         Bacteroidaceae  Bacteroides  \n",
       "OTU_2         Bacteroidaceae  Bacteroides  \n",
       "OTU_3    Verrucomicrobiaceae  Akkermansia  \n",
       "OTU_4         Bacteroidaceae  Bacteroides  \n",
       "OTU_5    Verrucomicrobiaceae  Akkermansia  "
      ]
     },
     "execution_count": 44,
     "metadata": {
      "tags": []
     },
     "output_type": "execute_result"
    }
   ],
   "source": [
    "print('Mouse 1 OTU Taxonomy shape: {}'.format(mouse_1['otu_taxonomy'].shape))\n",
    "mouse_1['otu_taxonomy'].head()"
   ]
  },
  {
   "cell_type": "code",
   "execution_count": 0,
   "metadata": {
    "colab": {
     "base_uri": "https://localhost:8080/",
     "height": 272
    },
    "colab_type": "code",
    "id": "qE7jYkhHZOy8",
    "outputId": "1b8c8381-55af-4bf6-e1de-3e0b9451a84e"
   },
   "outputs": [
    {
     "name": "stdout",
     "output_type": "stream",
     "text": [
      "Mouse 2 OTU Taxonomy shape: (176, 7)\n"
     ]
    },
    {
     "data": {
      "text/html": [
       "<div>\n",
       "<style scoped>\n",
       "    .dataframe tbody tr th:only-of-type {\n",
       "        vertical-align: middle;\n",
       "    }\n",
       "\n",
       "    .dataframe tbody tr th {\n",
       "        vertical-align: top;\n",
       "    }\n",
       "\n",
       "    .dataframe thead th {\n",
       "        text-align: right;\n",
       "    }\n",
       "</style>\n",
       "<table border=\"1\" class=\"dataframe\">\n",
       "  <thead>\n",
       "    <tr style=\"text-align: right;\">\n",
       "      <th></th>\n",
       "      <th>sequence</th>\n",
       "      <th>Kingdom</th>\n",
       "      <th>Phylum</th>\n",
       "      <th>Class</th>\n",
       "      <th>Order</th>\n",
       "      <th>Family</th>\n",
       "      <th>Genus</th>\n",
       "    </tr>\n",
       "    <tr>\n",
       "      <th>otuName</th>\n",
       "      <th></th>\n",
       "      <th></th>\n",
       "      <th></th>\n",
       "      <th></th>\n",
       "      <th></th>\n",
       "      <th></th>\n",
       "      <th></th>\n",
       "    </tr>\n",
       "  </thead>\n",
       "  <tbody>\n",
       "    <tr>\n",
       "      <th>OTU_1</th>\n",
       "      <td>TACGGAGGATCCGAGCGTTATCCGGATTTATTGGGTTTAAAGGGAG...</td>\n",
       "      <td>Bacteria</td>\n",
       "      <td>Bacteroidetes</td>\n",
       "      <td>Bacteroidia</td>\n",
       "      <td>Bacteroidales</td>\n",
       "      <td>Bacteroidaceae</td>\n",
       "      <td>Bacteroides</td>\n",
       "    </tr>\n",
       "    <tr>\n",
       "      <th>OTU_2</th>\n",
       "      <td>TACGGAGGATCCGAGCGTTATCCGGATTTATTGGGTTTAAAGGGAG...</td>\n",
       "      <td>Bacteria</td>\n",
       "      <td>Bacteroidetes</td>\n",
       "      <td>Bacteroidia</td>\n",
       "      <td>Bacteroidales</td>\n",
       "      <td>Bacteroidaceae</td>\n",
       "      <td>Bacteroides</td>\n",
       "    </tr>\n",
       "    <tr>\n",
       "      <th>OTU_3</th>\n",
       "      <td>TACAGAGGTCTCAAGCGTTGTTCGGAATCACTGGGCGTAAAGCGTG...</td>\n",
       "      <td>Bacteria</td>\n",
       "      <td>Verrucomicrobia</td>\n",
       "      <td>Verrucomicrobiae</td>\n",
       "      <td>Verrucomicrobiales</td>\n",
       "      <td>Verrucomicrobiaceae</td>\n",
       "      <td>Akkermansia</td>\n",
       "    </tr>\n",
       "    <tr>\n",
       "      <th>OTU_4</th>\n",
       "      <td>TACGGAGGATCCGAGCGTTATCCGGATTTATTGGGTTTAAAGGGAG...</td>\n",
       "      <td>Bacteria</td>\n",
       "      <td>Bacteroidetes</td>\n",
       "      <td>Bacteroidia</td>\n",
       "      <td>Bacteroidales</td>\n",
       "      <td>Bacteroidaceae</td>\n",
       "      <td>Bacteroides</td>\n",
       "    </tr>\n",
       "    <tr>\n",
       "      <th>OTU_5</th>\n",
       "      <td>TACAGAGGTCTCAAGCGTTGTTCGGAATCACTGGGCGTAAAGCGTG...</td>\n",
       "      <td>Bacteria</td>\n",
       "      <td>Verrucomicrobia</td>\n",
       "      <td>Verrucomicrobiae</td>\n",
       "      <td>Verrucomicrobiales</td>\n",
       "      <td>Verrucomicrobiaceae</td>\n",
       "      <td>Akkermansia</td>\n",
       "    </tr>\n",
       "  </tbody>\n",
       "</table>\n",
       "</div>"
      ],
      "text/plain": [
       "                                                  sequence   Kingdom  \\\n",
       "otuName                                                                \n",
       "OTU_1    TACGGAGGATCCGAGCGTTATCCGGATTTATTGGGTTTAAAGGGAG...  Bacteria   \n",
       "OTU_2    TACGGAGGATCCGAGCGTTATCCGGATTTATTGGGTTTAAAGGGAG...  Bacteria   \n",
       "OTU_3    TACAGAGGTCTCAAGCGTTGTTCGGAATCACTGGGCGTAAAGCGTG...  Bacteria   \n",
       "OTU_4    TACGGAGGATCCGAGCGTTATCCGGATTTATTGGGTTTAAAGGGAG...  Bacteria   \n",
       "OTU_5    TACAGAGGTCTCAAGCGTTGTTCGGAATCACTGGGCGTAAAGCGTG...  Bacteria   \n",
       "\n",
       "                  Phylum             Class               Order  \\\n",
       "otuName                                                          \n",
       "OTU_1      Bacteroidetes       Bacteroidia       Bacteroidales   \n",
       "OTU_2      Bacteroidetes       Bacteroidia       Bacteroidales   \n",
       "OTU_3    Verrucomicrobia  Verrucomicrobiae  Verrucomicrobiales   \n",
       "OTU_4      Bacteroidetes       Bacteroidia       Bacteroidales   \n",
       "OTU_5    Verrucomicrobia  Verrucomicrobiae  Verrucomicrobiales   \n",
       "\n",
       "                      Family        Genus  \n",
       "otuName                                    \n",
       "OTU_1         Bacteroidaceae  Bacteroides  \n",
       "OTU_2         Bacteroidaceae  Bacteroides  \n",
       "OTU_3    Verrucomicrobiaceae  Akkermansia  \n",
       "OTU_4         Bacteroidaceae  Bacteroides  \n",
       "OTU_5    Verrucomicrobiaceae  Akkermansia  "
      ]
     },
     "execution_count": 46,
     "metadata": {
      "tags": []
     },
     "output_type": "execute_result"
    }
   ],
   "source": [
    "print('Mouse 2 OTU Taxonomy shape: {}'.format(mouse_2['otu_taxonomy'].shape))\n",
    "mouse_2['otu_taxonomy'].head()"
   ]
  },
  {
   "cell_type": "markdown",
   "metadata": {
    "colab_type": "text",
    "id": "lE65_JmgZZ0u"
   },
   "source": [
    "`otu_taxonomy` holds dataframes that map the `otuName` to various info about the bug."
   ]
  },
  {
   "cell_type": "code",
   "execution_count": 0,
   "metadata": {
    "colab": {},
    "colab_type": "code",
    "id": "qYaRhN7MbqpJ"
   },
   "outputs": [],
   "source": [
    "mouse2_reads=get_mouse_data(2,'reads')"
   ]
  },
  {
   "cell_type": "code",
   "execution_count": 0,
   "metadata": {
    "colab": {
     "base_uri": "https://localhost:8080/",
     "height": 233
    },
    "colab_type": "code",
    "id": "Hmah7aJxcI2c",
    "outputId": "49e9f9d9-381f-463c-b1b9-1330ad8a5d7e"
   },
   "outputs": [
    {
     "data": {
      "text/html": [
       "<div>\n",
       "<style scoped>\n",
       "    .dataframe tbody tr th:only-of-type {\n",
       "        vertical-align: middle;\n",
       "    }\n",
       "\n",
       "    .dataframe tbody tr th {\n",
       "        vertical-align: top;\n",
       "    }\n",
       "\n",
       "    .dataframe thead th {\n",
       "        text-align: right;\n",
       "    }\n",
       "</style>\n",
       "<table border=\"1\" class=\"dataframe\">\n",
       "  <thead>\n",
       "    <tr style=\"text-align: right;\">\n",
       "      <th></th>\n",
       "      <th>0AM</th>\n",
       "      <th>0PM</th>\n",
       "      <th>1AM</th>\n",
       "      <th>1PM</th>\n",
       "      <th>2AM</th>\n",
       "      <th>2PM</th>\n",
       "      <th>3AM</th>\n",
       "      <th>3PM</th>\n",
       "      <th>4AM</th>\n",
       "      <th>4PM</th>\n",
       "      <th>...</th>\n",
       "      <th>58PM</th>\n",
       "      <th>59AM</th>\n",
       "      <th>59PM</th>\n",
       "      <th>60AM</th>\n",
       "      <th>60PM</th>\n",
       "      <th>61</th>\n",
       "      <th>62</th>\n",
       "      <th>63</th>\n",
       "      <th>64AM</th>\n",
       "      <th>64PM</th>\n",
       "    </tr>\n",
       "  </thead>\n",
       "  <tbody>\n",
       "    <tr>\n",
       "      <th>OTU_1</th>\n",
       "      <td>1094</td>\n",
       "      <td>3292</td>\n",
       "      <td>1744</td>\n",
       "      <td>193</td>\n",
       "      <td>468</td>\n",
       "      <td>974</td>\n",
       "      <td>1323</td>\n",
       "      <td>2854</td>\n",
       "      <td>7106</td>\n",
       "      <td>3949</td>\n",
       "      <td>...</td>\n",
       "      <td>3297</td>\n",
       "      <td>1415</td>\n",
       "      <td>1539</td>\n",
       "      <td>1641</td>\n",
       "      <td>6409</td>\n",
       "      <td>1477</td>\n",
       "      <td>1108</td>\n",
       "      <td>573</td>\n",
       "      <td>841</td>\n",
       "      <td>762</td>\n",
       "    </tr>\n",
       "    <tr>\n",
       "      <th>OTU_2</th>\n",
       "      <td>180</td>\n",
       "      <td>825</td>\n",
       "      <td>1340</td>\n",
       "      <td>4501</td>\n",
       "      <td>9959</td>\n",
       "      <td>5564</td>\n",
       "      <td>2738</td>\n",
       "      <td>3069</td>\n",
       "      <td>2318</td>\n",
       "      <td>1229</td>\n",
       "      <td>...</td>\n",
       "      <td>100</td>\n",
       "      <td>25</td>\n",
       "      <td>0</td>\n",
       "      <td>80</td>\n",
       "      <td>5359</td>\n",
       "      <td>86</td>\n",
       "      <td>398</td>\n",
       "      <td>447</td>\n",
       "      <td>1265</td>\n",
       "      <td>1326</td>\n",
       "    </tr>\n",
       "    <tr>\n",
       "      <th>OTU_3</th>\n",
       "      <td>10</td>\n",
       "      <td>8</td>\n",
       "      <td>10</td>\n",
       "      <td>27</td>\n",
       "      <td>117</td>\n",
       "      <td>28</td>\n",
       "      <td>44</td>\n",
       "      <td>50</td>\n",
       "      <td>77</td>\n",
       "      <td>49</td>\n",
       "      <td>...</td>\n",
       "      <td>10</td>\n",
       "      <td>6</td>\n",
       "      <td>3</td>\n",
       "      <td>20</td>\n",
       "      <td>15</td>\n",
       "      <td>26</td>\n",
       "      <td>11</td>\n",
       "      <td>4</td>\n",
       "      <td>7</td>\n",
       "      <td>24</td>\n",
       "    </tr>\n",
       "    <tr>\n",
       "      <th>OTU_4</th>\n",
       "      <td>3</td>\n",
       "      <td>0</td>\n",
       "      <td>9</td>\n",
       "      <td>32</td>\n",
       "      <td>205</td>\n",
       "      <td>254</td>\n",
       "      <td>196</td>\n",
       "      <td>361</td>\n",
       "      <td>1073</td>\n",
       "      <td>871</td>\n",
       "      <td>...</td>\n",
       "      <td>7318</td>\n",
       "      <td>6252</td>\n",
       "      <td>8405</td>\n",
       "      <td>9322</td>\n",
       "      <td>9061</td>\n",
       "      <td>12263</td>\n",
       "      <td>10940</td>\n",
       "      <td>6070</td>\n",
       "      <td>9832</td>\n",
       "      <td>8101</td>\n",
       "    </tr>\n",
       "    <tr>\n",
       "      <th>OTU_5</th>\n",
       "      <td>6</td>\n",
       "      <td>13</td>\n",
       "      <td>195</td>\n",
       "      <td>517</td>\n",
       "      <td>744</td>\n",
       "      <td>4703</td>\n",
       "      <td>5620</td>\n",
       "      <td>8592</td>\n",
       "      <td>11602</td>\n",
       "      <td>11978</td>\n",
       "      <td>...</td>\n",
       "      <td>1</td>\n",
       "      <td>0</td>\n",
       "      <td>0</td>\n",
       "      <td>0</td>\n",
       "      <td>4</td>\n",
       "      <td>1</td>\n",
       "      <td>1</td>\n",
       "      <td>8</td>\n",
       "      <td>1</td>\n",
       "      <td>0</td>\n",
       "    </tr>\n",
       "  </tbody>\n",
       "</table>\n",
       "<p>5 rows × 75 columns</p>\n",
       "</div>"
      ],
      "text/plain": [
       "        0AM   0PM   1AM   1PM   2AM   2PM   3AM   3PM    4AM    4PM  ...  \\\n",
       "OTU_1  1094  3292  1744   193   468   974  1323  2854   7106   3949  ...   \n",
       "OTU_2   180   825  1340  4501  9959  5564  2738  3069   2318   1229  ...   \n",
       "OTU_3    10     8    10    27   117    28    44    50     77     49  ...   \n",
       "OTU_4     3     0     9    32   205   254   196   361   1073    871  ...   \n",
       "OTU_5     6    13   195   517   744  4703  5620  8592  11602  11978  ...   \n",
       "\n",
       "       58PM  59AM  59PM  60AM  60PM     61     62    63  64AM  64PM  \n",
       "OTU_1  3297  1415  1539  1641  6409   1477   1108   573   841   762  \n",
       "OTU_2   100    25     0    80  5359     86    398   447  1265  1326  \n",
       "OTU_3    10     6     3    20    15     26     11     4     7    24  \n",
       "OTU_4  7318  6252  8405  9322  9061  12263  10940  6070  9832  8101  \n",
       "OTU_5     1     0     0     0     4      1      1     8     1     0  \n",
       "\n",
       "[5 rows x 75 columns]"
      ]
     },
     "execution_count": 60,
     "metadata": {
      "tags": []
     },
     "output_type": "execute_result"
    }
   ],
   "source": [
    "mouse2_reads.head()"
   ]
  },
  {
   "cell_type": "code",
   "execution_count": 0,
   "metadata": {
    "colab": {
     "base_uri": "https://localhost:8080/",
     "height": 170
    },
    "colab_type": "code",
    "id": "J1Pp1QK_bvN2",
    "outputId": "608623aa-a4af-4163-c65b-4c02d9c91ec2"
   },
   "outputs": [
    {
     "data": {
      "text/plain": [
       "array([ 1094,  3292,  1744,   193,   468,   974,  1323,  2854,  7106,\n",
       "        3949,  5213,  5815,  9310,  2502,   215,  1114,  1634,  7921,\n",
       "        9532,  3113,  3417,  5109,  3772,  3806,  1943,   761,  2260,\n",
       "        1329,   975,  3276,  3672,  4837,  5395,  6865,  5596, 10241,\n",
       "        2643,  2448,  2214,  1453,  1157,   257,   113,   101,  1678,\n",
       "        2514,   111,   187,   190,   192,    87,    49,   183,   158,\n",
       "          54,    49,    29,    48,   159,    40,   188,  1948,  4685,\n",
       "        2816,  3252,  3297,  1415,  1539,  1641,  6409,  1477,  1108,\n",
       "         573,   841,   762])"
      ]
     },
     "execution_count": 66,
     "metadata": {
      "tags": []
     },
     "output_type": "execute_result"
    }
   ],
   "source": [
    "mouse2_reads.head().values[0]"
   ]
  },
  {
   "cell_type": "code",
   "execution_count": 0,
   "metadata": {
    "colab": {
     "base_uri": "https://localhost:8080/",
     "height": 404
    },
    "colab_type": "code",
    "id": "MG7LfwPobxtb",
    "outputId": "bd4063f1-41fc-4466-b756-ee2410edb5cf"
   },
   "outputs": [
    {
     "data": {
      "image/png": "[encoded data removed]",
      "text/plain": [
       "<Figure size 720x432 with 1 Axes>"
      ]
     },
     "metadata": {
      "tags": []
     },
     "output_type": "display_data"
    }
   ],
   "source": [
    "import matplotlib.pyplot as plt\n",
    "import seaborn as sns\n",
    "times_ = mouse_1['times']\n",
    "plt.figure(figsize=(10,6))\n",
    "for idx,row in mouse2_reads.iterrows():\n",
    "  plt.plot(times_, row.values, '-o', alpha=0.5)\n",
    "plt.title('Mouse #2 Reads (Unadjusted)')\n",
    "plt.xlabel('Time')\n",
    "plt.ylabel('Read');"
   ]
  },
  {
   "cell_type": "code",
   "execution_count": 0,
   "metadata": {
    "colab": {
     "base_uri": "https://localhost:8080/",
     "height": 404
    },
    "colab_type": "code",
    "id": "pdu09BLDc1mR",
    "outputId": "05d1546c-d1ee-4298-9662-140435525d12"
   },
   "outputs": [
    {
     "data": {
      "image/png": "[encoded data removed]",
      "text/plain": [
       "<Figure size 720x432 with 1 Axes>"
      ]
     },
     "metadata": {
      "tags": []
     },
     "output_type": "display_data"
    }
   ],
   "source": [
    "mouse6_reads = get_mouse_data(6, 'reads')\n",
    "times_ = get_mouse_data(6, 'times')\n",
    "plt.figure(figsize=(10,6))\n",
    "for idx,row in mouse6_reads.iterrows():\n",
    "  plt.plot(times_, row.values, '-o', alpha=0.5)\n",
    "plt.title('Mouse #6 Reads (Unadjusted)')\n",
    "plt.xlabel('Time')\n",
    "plt.ylabel('Read');"
   ]
  },
  {
   "cell_type": "code",
   "execution_count": 0,
   "metadata": {
    "colab": {
     "base_uri": "https://localhost:8080/",
     "height": 34
    },
    "colab_type": "code",
    "id": "vnzdglUGeCMk",
    "outputId": "071b63f6-b96e-4306-8d1a-29a2d02d9df0"
   },
   "outputs": [
    {
     "data": {
      "text/plain": [
       "((75, 2), (202, 75))"
      ]
     },
     "execution_count": 78,
     "metadata": {
      "tags": []
     },
     "output_type": "execute_result"
    }
   ],
   "source": [
    "## adjusting the reads\n",
    "mouse2_qpcr = get_mouse_data(2, 'qpcr')\n",
    "mouse2_qpcr.shape, mouse2_reads.shape"
   ]
  },
  {
   "cell_type": "code",
   "execution_count": 0,
   "metadata": {
    "colab": {
     "base_uri": "https://localhost:8080/",
     "height": 234
    },
    "colab_type": "code",
    "id": "0Mf3TE_HePmW",
    "outputId": "1d2fa063-174c-45d4-d6f0-c3c7d428d34b"
   },
   "outputs": [
    {
     "data": {
      "text/html": [
       "<div>\n",
       "<style scoped>\n",
       "    .dataframe tbody tr th:only-of-type {\n",
       "        vertical-align: middle;\n",
       "    }\n",
       "\n",
       "    .dataframe tbody tr th {\n",
       "        vertical-align: top;\n",
       "    }\n",
       "\n",
       "    .dataframe thead th {\n",
       "        text-align: right;\n",
       "    }\n",
       "</style>\n",
       "<table border=\"1\" class=\"dataframe\">\n",
       "  <thead>\n",
       "    <tr style=\"text-align: right;\">\n",
       "      <th></th>\n",
       "      <th>mean</th>\n",
       "      <th>std</th>\n",
       "    </tr>\n",
       "  </thead>\n",
       "  <tbody>\n",
       "    <tr>\n",
       "      <th>0AM</th>\n",
       "      <td>8.724134e+06</td>\n",
       "      <td>6.029776e+05</td>\n",
       "    </tr>\n",
       "    <tr>\n",
       "      <th>0PM</th>\n",
       "      <td>3.674454e+07</td>\n",
       "      <td>1.388925e+07</td>\n",
       "    </tr>\n",
       "  </tbody>\n",
       "</table>\n",
       "</div>"
      ],
      "text/plain": [
       "             mean           std\n",
       "0AM  8.724134e+06  6.029776e+05\n",
       "0PM  3.674454e+07  1.388925e+07"
      ]
     },
     "metadata": {
      "tags": []
     },
     "output_type": "display_data"
    },
    {
     "data": {
      "text/html": [
       "<div>\n",
       "<style scoped>\n",
       "    .dataframe tbody tr th:only-of-type {\n",
       "        vertical-align: middle;\n",
       "    }\n",
       "\n",
       "    .dataframe tbody tr th {\n",
       "        vertical-align: top;\n",
       "    }\n",
       "\n",
       "    .dataframe thead th {\n",
       "        text-align: right;\n",
       "    }\n",
       "</style>\n",
       "<table border=\"1\" class=\"dataframe\">\n",
       "  <thead>\n",
       "    <tr style=\"text-align: right;\">\n",
       "      <th></th>\n",
       "      <th>0AM</th>\n",
       "      <th>0PM</th>\n",
       "      <th>1AM</th>\n",
       "      <th>1PM</th>\n",
       "      <th>2AM</th>\n",
       "      <th>2PM</th>\n",
       "      <th>3AM</th>\n",
       "      <th>3PM</th>\n",
       "      <th>4AM</th>\n",
       "      <th>4PM</th>\n",
       "      <th>...</th>\n",
       "      <th>58PM</th>\n",
       "      <th>59AM</th>\n",
       "      <th>59PM</th>\n",
       "      <th>60AM</th>\n",
       "      <th>60PM</th>\n",
       "      <th>61</th>\n",
       "      <th>62</th>\n",
       "      <th>63</th>\n",
       "      <th>64AM</th>\n",
       "      <th>64PM</th>\n",
       "    </tr>\n",
       "  </thead>\n",
       "  <tbody>\n",
       "    <tr>\n",
       "      <th>OTU_1</th>\n",
       "      <td>1094</td>\n",
       "      <td>3292</td>\n",
       "      <td>1744</td>\n",
       "      <td>193</td>\n",
       "      <td>468</td>\n",
       "      <td>974</td>\n",
       "      <td>1323</td>\n",
       "      <td>2854</td>\n",
       "      <td>7106</td>\n",
       "      <td>3949</td>\n",
       "      <td>...</td>\n",
       "      <td>3297</td>\n",
       "      <td>1415</td>\n",
       "      <td>1539</td>\n",
       "      <td>1641</td>\n",
       "      <td>6409</td>\n",
       "      <td>1477</td>\n",
       "      <td>1108</td>\n",
       "      <td>573</td>\n",
       "      <td>841</td>\n",
       "      <td>762</td>\n",
       "    </tr>\n",
       "    <tr>\n",
       "      <th>OTU_2</th>\n",
       "      <td>180</td>\n",
       "      <td>825</td>\n",
       "      <td>1340</td>\n",
       "      <td>4501</td>\n",
       "      <td>9959</td>\n",
       "      <td>5564</td>\n",
       "      <td>2738</td>\n",
       "      <td>3069</td>\n",
       "      <td>2318</td>\n",
       "      <td>1229</td>\n",
       "      <td>...</td>\n",
       "      <td>100</td>\n",
       "      <td>25</td>\n",
       "      <td>0</td>\n",
       "      <td>80</td>\n",
       "      <td>5359</td>\n",
       "      <td>86</td>\n",
       "      <td>398</td>\n",
       "      <td>447</td>\n",
       "      <td>1265</td>\n",
       "      <td>1326</td>\n",
       "    </tr>\n",
       "  </tbody>\n",
       "</table>\n",
       "<p>2 rows × 75 columns</p>\n",
       "</div>"
      ],
      "text/plain": [
       "        0AM   0PM   1AM   1PM   2AM   2PM   3AM   3PM   4AM   4PM  ...  58PM  \\\n",
       "OTU_1  1094  3292  1744   193   468   974  1323  2854  7106  3949  ...  3297   \n",
       "OTU_2   180   825  1340  4501  9959  5564  2738  3069  2318  1229  ...   100   \n",
       "\n",
       "       59AM  59PM  60AM  60PM    61    62   63  64AM  64PM  \n",
       "OTU_1  1415  1539  1641  6409  1477  1108  573   841   762  \n",
       "OTU_2    25     0    80  5359    86   398  447  1265  1326  \n",
       "\n",
       "[2 rows x 75 columns]"
      ]
     },
     "metadata": {
      "tags": []
     },
     "output_type": "display_data"
    }
   ],
   "source": [
    "display(mouse2_qpcr.head(2))\n",
    "display(mouse2_reads.head(2))"
   ]
  },
  {
   "cell_type": "code",
   "execution_count": 0,
   "metadata": {
    "colab": {
     "base_uri": "https://localhost:8080/",
     "height": 34
    },
    "colab_type": "code",
    "id": "WkpWgejkegeg",
    "outputId": "8ad42e74-52eb-4304-8798-c1713477cb18"
   },
   "outputs": [
    {
     "data": {
      "text/plain": [
       "(2929, 8724133.557309365)"
      ]
     },
     "execution_count": 84,
     "metadata": {
      "tags": []
     },
     "output_type": "execute_result"
    }
   ],
   "source": [
    "import numpy as np\n",
    "np.sum(mouse2_reads.values[:,0]), mouse2_qpcr.values[0,0]"
   ]
  },
  {
   "cell_type": "markdown",
   "metadata": {
    "colab_type": "text",
    "id": "gahysr5Qagzp"
   },
   "source": [
    "####  Remarks:\n",
    "\n",
    "All of the data seems to make sense. All of the dimensions line up. The most important thing to note is that `mouse_1` and `mouse_2` are fundamentally different experiments, taken from the same lab. That's why we have different `reads` dataframe shapes of `(202,75)` and `(176,73)` respectively. We really can't group these two together without taking this additional information into consideration.\n",
    "\n",
    "One important point that was mentioned in the lecture is that the `reads` data is not quantitative, and only relatively relevant. To make across-time inferences legitimate, we must multiply the relative abundance by the total (found in `qpcr`)."
   ]
  },
  {
   "cell_type": "markdown",
   "metadata": {
    "colab_type": "text",
    "id": "lYurqgSOZmel"
   },
   "source": [
    "### Project Statement\n",
    "\n",
    "We will employ Bayesian machine learning methods (e.g. hierarchical models, gaussian processes) in an attempt to do inference and make predictions on the dynamics of the system. Specifically, we are interested in being able to predict the effect that a given intervention will have. We will model all of this in the Bayesian framework, utilizing the `qpcr` as given uncertainty estimate for our priors. We will then be able to make predictions with our model (through the posterior predictive) that come with principled uncertainty estimates.\n",
    "\n",
    "Additionally, we will be able to inject our prior information into the model. For example, perhaps we can employ hierarchical modeling to allow parameter sharing between `mouse_1` and `mouse_2`. "
   ]
  },
  {
   "cell_type": "markdown",
   "metadata": {
    "colab_type": "text",
    "id": "TrAdt5EUfV-G"
   },
   "source": [
    "### Literature Review and References \n",
    " 1. Microbiome dynamics and temporal genetic data analysis\n",
    " 2. Microbiome and the origin of IBD [link](https://en.wikipedia.org/wiki/Inflammatory_bowel_disease#Microbiota)\n",
    " 3. Microbiome and the treatment of IBD [link ](https://en.wikipedia.org/wiki/Inflammatory_bowel_disease#Microbiome)\n",
    "\n",
    "----\n",
    "\n",
    "#### 1. Microbiome dynamics and temporal genetic data analysis\n",
    "\n",
    "*  **Many pitfalls in the microbiome analysis of temporal genetic data:** “The human gut microbiota is a very complex and dynamic ecosystem that plays a crucial role in health and well-being. Inferring microbial community structure and dynamics directly from time-resolved metagenomics data is key to understanding the community ecology and predicting its temporal behavior. Many methods have been proposed to perform the inference. Yet, as we point out in this review, there are several pitfalls along the way.\n",
    " -\tIndeed, the uninformative temporal measurements and the compositional nature of the relative abundance data raise serious challenges in inference. \n",
    " -\tMoreover, the inference results can be largely distorted when only focusing on highly abundant species by ignoring or grouping low-abundance species. \n",
    " -\tFinally, the implicit assumptions in various regularization methods may not reflect reality. Those issues have to be seriously considered in ecological modeling of human gut microbiota.”\n",
    "    - *REF: Cao HT, Gibson TE, Bashan A, Liu YY (February 2017). “Inferring human microbial dynamics from temporal metagenomics data: Pitfalls and lessons.” Bioessays. 2017 Feb;39(2). doi: 10.1002/bies.201600188. PMID: 28000336*\n",
    "\n",
    "* **Longitudinal Prediction of the Infant Gut Microbiome with Dynamic Bayesian Networks:**  \"Dynamic Bayesian Newtorks (DBNs) were able to identify important relationships between microbiome taxa and predict future changes in microbiome composition from measured or synthetic initial conditions. DBNs also provided likelihood estimates for sudden, dramatic shifts in microbiome composition, which may be useful in guiding further analysis of those samples.\"\n",
    "    - *REF: McGeachie MJ, Sordillo JE, Gibson T, Weinstock GM, Liu YY, Gold DR, Weiss ST, Litonjua A. \"Longitudinal Prediction of the Infant Gut Microbiome with Dynamic Bayesian Networks\" (February 2016) Sci Rep. 2016 Feb 8;6:20359. doi: 10.1038/srep20359. PMID: 26853461*\n",
    "    \n",
    "* **Robust and Scalable Models of Microbiome Dynamics by specifying microbial interaction:**  \"A new type of dynamical systems model for microbial dynamics based on what we term interaction modules, or learned clusters of latent variables with redundant interaction structure (reducing the expected number of interaction coefficients from O(n2) to O((logn)2)); a fully Bayesian formulation of the stochastic dynamical systems model that propagates measurement and latent state uncertainty throughout the model; and introduction of a temporally varying auxiliary variable technique to enable efficient inference by relaxing the hard non-negativity constraint on states.\"\n",
    "    - *REF: Travis E. Gibson, Georg K. Gerber \"Robust and Scalable Models of Microbiome Dynamics\" (Submitted on 11 May 2018 (v1), last revised 8 Jun 2018 (this version, v2))*\n",
    "    \n",
    "* **Universality of gut microbial dynamics: after faecal microbiota transplantation we observe the same microbioal dynamics in different subjects:** “Notably, the universality of gut microbial dynamics is not observed in subjects with recurrent Clostridium difficile infection but is observed in the same set of subjects after faecal microbiota transplantation. These results fundamentally improve our understanding of the processes that shape human microbial ecosystems, and pave the way to designing general microbiome-based therapies.”\n",
    "    - *REF: Bashan A, Gibson TE, Friedman J, Carey VJ, Weiss ST, Hohmann EL, Liu YY. (January 2016) “Universality of human microbial dynamics.” Nature. 2016 Jun 9;534(7606):259-62. doi: 10.1038/nature18301. PMID: 27279224*\n",
    "\n",
    "* **Antibiotic effects on gut microbiota and metabolism are host dependent:** “Interactions of diet, gut microbiota, and host genetics play important roles in the development of obesity and insulin resistance.  Thus, changes in bile acid and inflammatory signaling, insulin resistance, and glucose metabolism driven by an HFD can be modified by antibiotic-induced changes in gut microbiota; however, these effects depend on important interactions with the host's genetic background and inflammatory potential.”\n",
    "    - *REF: Fujisaka S, Ussar S, Clish C, Devkota S, Dreyfuss JM, Sakaguchi M, Soto M, Konishi M, Softic S, Altindis E, Li N, Gerber G, Bry L, Kahn CR. (December 2016) “Antibiotic effects on gut microbiota and metabolism are host dependent.” J Clin Invest. 2016 Dec 1;126(12):4430-4443. doi: 10.1172/JCI86674. PMID: 27775551*\n",
    "\n",
    "----\n",
    "\n",
    "#### 2. Interesting references regarding microbiome and the etiology (cause/origin) of IBD [link](https://en.wikipedia.org/wiki/Inflammatory_bowel_disease#Microbiota)\n",
    "\n",
    "* **Alterations in the gut microbiome may contribute to inflammatory gut diseases** as a result of microbial symbiosis and immunity, \n",
    "    - *REF: Mukhopadhya I, Hansen R, El-Omar EM, Hold GL (February 2012). \"IBD-what role do Proteobacteria play?\". Nature Reviews. Gastroenterology & Hepatology. 9 (4): 219–30. doi:10.1038/nrgastro.2012.14. PMID 22349170.*\n",
    "\n",
    "\n",
    "* **IBD-affected individuals have been found to have 30–50 percent reduced biodiversity of commensal bacteria,** such as decreases in Firmicutes (namely Lachnospiraceae) and Bacteroidetes.\n",
    "    - *REF: Leitner GC, Vogelsang H. Pharmacological- and non-pharmacological therapeutic approaches in inflammatory bowel disease in adults. World J Gastrointest Pharmacol Ther. 2016;7(1):5–20. doi:10.4292/wjgpt.v7.i1.5 PMID: 26855808*\n",
    "    - *REF: Devkota S, Wang Y, Musch MW, Leone V, Fehlner-Peach H, Nadimpalli A, Antonopoulos DA, Jabri B, Chang EB. (2012 June) Dietary-fat-induced taurocholic acid promotes pathobiont expansion and colitis in Il10-/- mice. Nature. 5;487(7405):104-8. doi: 10.1038/nature11225. PMID: 22722865*\n",
    "\n",
    "* **IBD-affected individuals are more likely to have been prescribed antibiotics in the 2–5 year period before their diagnosis than unaffected individuals.** \n",
    "    - *REF: Aroniadis OC, Brandt LJ (January 2013). \"Fecal microbiota transplantation: past, present and future\". Current Opinion in Gastroenterology. 29 (1): 79–84. doi:10.1097/ MOG.0b013e32835a4b3e. PMID 23041678.*\n",
    "\n",
    "\n",
    "----\n",
    "\n",
    "#### 3. Interesting references regarding (change in low- or high-fat diet, antibiotics or fecal microbiota transplant) relating microbiome with treatment of IBD [link ](https://en.wikipedia.org/wiki/Inflammatory_bowel_disease#Microbiome)\n",
    "\n",
    "* **The enteral bacteria can be altered by environmental factors**, such as concentrated milk fats (a common ingredient of processed foods and confectionery) or oral medications such as antibiotics and oral iron preparations.\n",
    "    - *REF: Kotanko P, Carter M, Levin NW (August 2006). \"Intestinal bacterial microflora--a potential source of chronic inflammation in patients with chronic kidney disease\". Nephrology, Dialysis, Transplantation. 21 (8): 2057–60. doi:10.1093/ndt/gfl281. PMID 16762961.*\n",
    "\n",
    "* **Preliminary evidence of an infectious contribution to inflammatory bowel disease in some patients that may benefit from antibiotic therapy,** such as with rifaximin.\n",
    "    - *REF: Lopetuso LR, Napoli M, Rizzatti G, Gasbarrini A (June 2018). \"The intriguing role of Rifaximin in gut barrier chronic inflammation and in the treatment of Crohn's disease\". Expert Opin Investig Drugs. 27 (6): 543–551. doi:10.1080/13543784.2018.1483333. PMID 29865875.*\n",
    "\n",
    "* **Rifaximin could potentially be redefined as a gut environment modulator?** The evidence for a benefit of rifaximin is mostly limited to crohn’s disease with less convincing evidence supporting use in ulcerative colitis. Conclusion of the paper: “Accumulating evidence suggests that mechanisms of action of rifaximin in IBD may not be limited to direct bactericidal activity; therefore, rifaximin could potentially be redefined as a gut environment modulator.”\n",
    "    - *REF: Sartor RB (January 2016). \"Review article: the potential mechanisms of action of rifaximin in the management of inflammatory bowel diseases\". Aliment. Pharmacol. Ther. 43 Suppl 1: 27–36. doi:10.1111/apt.13436. PMID 26618923.*\n",
    "\n",
    "* **Fecal microbiota (FMT) transplant as a new treatment option for IBD?** The paper concludes: “This analysis suggests that FMT is a safe, but variably efficacious treatment for IBD. More randomized controlled trials are needed and should investigate frequency of FMT administration, donor selection and standardization of microbiome analysis.”\n",
    "    - *REF: Colman RJ, Rubin DT (December 2014). \"Fecal microbiota transplantation as therapy for inflammatory bowel disease: a systematic review and meta-analysis\". Journal of Crohn's & Colitis. 8 (12): 1569–81. doi:10.1016/j.crohns.2014.08.006. PMC 4296742. PMID 25223604.*\n",
    "    \n",
    "---\n"
   ]
  }
 ],
 "metadata": {
  "colab": {
   "collapsed_sections": [
    "5mpDaW-SUctl",
    "gahysr5Qagzp"
   ],
   "name": "AC209b-FinalProject-MS2",
   "provenance": [],
   "toc_visible": true,
   "version": "0.3.2"
  },
  "kernelspec": {
   "display_name": "Python 3",
   "language": "python",
   "name": "python3"
  },
  "language_info": {
   "codemirror_mode": {
    "name": "ipython",
    "version": 3
   },
   "file_extension": ".py",
   "mimetype": "text/x-python",
   "name": "python",
   "nbconvert_exporter": "python",
   "pygments_lexer": "ipython3",
   "version": "3.6.8"
  }
 },
 "nbformat": 4,
 "nbformat_minor": 1
}
