{
 "cells": [
  {
   "cell_type": "markdown",
   "metadata": {},
   "source": [
    "## Intro to Granger Causality\n",
    "\n",
    "Inspired by the work of [Tank et al.](https://arxiv.org/pdf/1802.05842.pdf), we investigate the notion of Granger Causality in the time-series of the various microbes. The idea is to see if we can determine some sort of \"temporal interaction links\" between the microbes. Specifically, in Granger ‘causality’ analysis, we test whether the addition of a prediction of the time-series from another time-series may improve our prediction of the present behavior of the time-series (i.e. reducing the prediction error). \n",
    "\n",
    "Given that the time-series from the dataset appear to be highly non-linear, we employ Long Short-Term Memory (LSTM) recurrent neural networks as a robust non-linear time-dependent model. The way the paper implements the Granger causality is by creating one LSTM per time-series, and allowing the hidden outputs from each time-series to be potentially used by the others for making predictions. They penalize these weights being non-zero, so the network makes a tradeoff between using the information in the other series and lowering the loss. Then the Granger \"causality\" of a series $i$ on series $j$ is just the norm of the first-layer hidden weights of $i$ going to $j$.\n",
    "\n",
    "The authors of the paper also provide a convenient PyTorch implementation of their model, which we used: https://github.com/icc2115/Neural-GC. \n",
    "\n"
   ]
  }
 ],
 "metadata": {
  "kernelspec": {
   "display_name": "Python 3",
   "language": "python",
   "name": "python3"
  },
  "language_info": {
   "codemirror_mode": {
    "name": "ipython",
    "version": 3
   },
   "file_extension": ".py",
   "mimetype": "text/x-python",
   "name": "python",
   "nbconvert_exporter": "python",
   "pygments_lexer": "ipython3",
   "version": "3.6.8"
  }
 },
 "nbformat": 4,
 "nbformat_minor": 2
}
